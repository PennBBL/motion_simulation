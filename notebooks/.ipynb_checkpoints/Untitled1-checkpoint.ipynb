{
 "cells": [
  {
   "cell_type": "code",
   "execution_count": null,
   "metadata": {},
   "outputs": [],
   "source": [
    "import nibabel as nb\n",
    "import numpy as np\n",
    "import os\n",
    "import pandas as pd\n",
    "import re\n",
    "import math"
   ]
  },
  {
   "cell_type": "code",
   "execution_count": 107,
   "metadata": {
    "scrolled": true
   },
   "outputs": [
    {
     "name": "stdout",
     "output_type": "stream",
     "text": [
      "first sample: (3, 7)\n",
      "getting a new sample\n",
      "new sample: (2, 7)\n",
      "new sample in set?: False\n",
      "getting a new sample\n",
      "new sample: (5, 2)\n",
      "new sample in set?: False\n",
      "getting a new sample\n",
      "new sample: (1, 0)\n",
      "new sample in set?: False\n",
      "getting a new sample\n",
      "new sample: (1, 4)\n",
      "new sample in set?: False\n",
      "getting a new sample\n",
      "new sample: (7, 0)\n",
      "new sample in set?: False\n",
      "getting a new sample\n",
      "new sample: (0, 1)\n",
      "new sample in set?: False\n",
      "getting a new sample\n",
      "new sample: (1, 6)\n",
      "new sample in set?: False\n",
      "getting a new sample\n",
      "new sample: (1, 2)\n",
      "new sample in set?: False\n",
      "getting a new sample\n",
      "new sample: (10, 1)\n",
      "new sample in set?: False\n",
      "getting a new sample\n",
      "new sample: (0, 1)\n",
      "new sample in set?: True\n",
      "getting a new sample\n",
      "new sample: (10, 0)\n",
      "new sample in set?: False\n",
      "{(2, 7), (0, 1), (1, 2), (7, 0), (1, 4), (1, 6), (10, 1), (10, 0), (3, 7), (1, 0), (5, 2)}\n"
     ]
    }
   ],
   "source": [
    "# note the permutations we already have in perms\n",
    "perms = set()\n",
    "\n",
    "# the proportion of items in the array to sample\n",
    "proportion = 0.1\n",
    "\n",
    "# the number of permuations\n",
    "times = 10\n",
    "\n",
    "# the size of the array\n",
    "n_vols = 11\n",
    "\n",
    "# sample \n",
    "samp = tuple(np.random.randint(n_vols, size = math.ceil(proportion * n_vols)))\n",
    "\n",
    "# add the sample to the set\n",
    "perms.add(samp)\n",
    "\n",
    "print(\"first sample:\", samp)\n",
    "for n in range(times):\n",
    "    while samp in perms:\n",
    "        print(\"getting a new sample\")\n",
    "        samp = tuple(np.random.randint(n_vols, size = math.ceil(proportion * n_vols)))\n",
    "        print(\"new sample:\", samp)\n",
    "        print(\"new sample in set?:\", samp in perms)\n",
    "\n",
    "    perms.add(samp)\n",
    "print(perms)"
   ]
  },
  {
   "cell_type": "code",
   "execution_count": 123,
   "metadata": {},
   "outputs": [],
   "source": [
    "def simulate_motion(input_nomotion, input_motion, proportion, n_simulations):\n",
    "    \n",
    "    out = []\n",
    "    \n",
    "    # read in the two images\n",
    "    print(\"reading in images\")\n",
    "    input_nomotion = nb.load(input_nomotion)\n",
    "    input_motion = nb.load(input_motion)\n",
    "    nomotion_arr = input_nomotion.get_fdata(dtype = np.float32)\n",
    "    motion_arr = input_motion.get_fdata(dtype = np.float32)\n",
    "    assert motion_arr.shape[-1] == nomotion_arr.shape[-1]\n",
    "\n",
    "    # the number of volumes to sample from\n",
    "    n_vols = nomotion_arr.shape[-1]\n",
    "    print(\"number of volumes to sample from:\", n_vols)\n",
    "\n",
    "    # track the samples here\n",
    "    samples = set()\n",
    "\n",
    "    # first sample\n",
    "    print(\"first permuation:\")\n",
    "    s_array = np.random.randint(n_vols, size = math.ceil(proportion * n_vols))\n",
    "    s_tup = tuple(s_array)\n",
    "    samples.add(s_tup)\n",
    "    print(s_tup)\n",
    "    \n",
    "    x = nomotion_arr.copy()\n",
    "    x[...,s_array] = motion_arr[..., s_array]\n",
    "    out.append(nb.Nifti1Image(x, input_nomotion.affine, header=input_nomotion.header))\n",
    "    for n in range(n_simulations-1):\n",
    "        print(\"permuation\", n)\n",
    "        # now look for a new sample; break the loop when the sample is not in set\n",
    "        while s_tup in samples:\n",
    "            print(\"getting a new sample\")\n",
    "            s_array = np.random.randint(n_vols, size = math.ceil(proportion * n_vols))\n",
    "            s_tup = tuple(s_array)\n",
    "            print(\"new sample:\", s_tup)\n",
    "            print(\"new sample in set?:\", s_tup in samples)\n",
    "\n",
    "        samples.add(s_tup)\n",
    "\n",
    "        x = nomotion_arr.copy()\n",
    "        x[...,s_array] = motion_arr[..., s_array]\n",
    "        out.append(nb.Nifti1Image(x, input_nomotion.affine, header=input_nomotion.header))\n",
    "    return out"
   ]
  },
  {
   "cell_type": "code",
   "execution_count": null,
   "metadata": {},
   "outputs": [
    {
     "name": "stdout",
     "output_type": "stream",
     "text": [
      "reading in images\n",
      "number of volumes to sample from: 279\n",
      "first permuation:\n",
      "(49, 43, 229, 107, 54, 215, 239, 3, 10, 79, 211, 256, 136, 62, 88, 59, 229, 229, 112, 183, 153, 6, 208, 276, 47, 133, 79, 125, 76, 199, 235, 253, 202, 52, 62, 22, 17, 111, 32, 171, 182, 134, 237, 52, 128, 232, 114, 270, 273, 16, 6, 104, 27, 151, 84, 114)\n",
      "permuation 0\n",
      "getting a new sample\n",
      "new sample: (89, 8, 109, 49, 248, 182, 92, 269, 158, 146, 139, 115, 190, 51, 39, 29, 206, 270, 113, 143, 82, 30, 274, 118, 95, 171, 43, 236, 137, 172, 122, 76, 159, 130, 46, 21, 37, 130, 2, 274, 228, 70, 48, 7, 247, 271, 134, 251, 111, 223, 197, 0, 123, 183, 233, 55)\n",
      "new sample in set?: False\n",
      "permuation 1\n",
      "getting a new sample\n",
      "new sample: (81, 268, 179, 3, 266, 73, 144, 242, 266, 181, 130, 199, 87, 184, 15, 57, 68, 40, 85, 146, 91, 206, 277, 277, 71, 141, 24, 88, 101, 196, 84, 208, 265, 67, 121, 176, 174, 59, 42, 5, 259, 230, 61, 168, 245, 31, 151, 0, 180, 253, 7, 176, 260, 140, 141, 248)\n",
      "new sample in set?: False\n"
     ]
    }
   ],
   "source": [
    "img2 = '../data/realistic/lowmotion/sub-DSIQ5/dwi/sub-DSIQ5_acq-realistic_run-lowmotion_dwi.nii.gz'\n",
    "img1 = '../data/realistic/nomotion/sub-DSIQ5/dwi/sub-DSIQ5_acq-realistic_run-nomotion_dwi.nii.gz'\n",
    "\n",
    "simulate_motion(img1, img2, 0.2, 3)"
   ]
  },
  {
   "cell_type": "code",
   "execution_count": 39,
   "metadata": {},
   "outputs": [],
   "source": [
    "dwi = []\n",
    "for root, dirs, files in os.walk(\"../data\"):\n",
    "    for file in files:\n",
    "        if file.endswith('dwi.nii.gz'):\n",
    "            dwi.append(root+\"/\"+file)"
   ]
  },
  {
   "cell_type": "code",
   "execution_count": 3,
   "metadata": {},
   "outputs": [
    {
     "data": {
      "text/plain": [
       "['../data/noisefree/lowmotion/sub-ABCD/dwi/sub-ABCD_acq-noisefree_run-lowmotion_dwi.nii.gz',\n",
       " '../data/noisefree/lowmotion/sub-DSIQ5/dwi/sub-DSIQ5_acq-noisefree_run-lowmotion_dwi.nii.gz',\n",
       " '../data/noisefree/lowmotion/sub-HASC55/dwi/sub-HASC55_acq-noisefree_run-lowmotion_dwi.nii.gz',\n",
       " '../data/noisefree/lowmotion/sub-HCP/dwi/sub-HCP_acq-noisefree_run-lowmotion_dwi.nii.gz',\n",
       " '../data/noisefree/nomotion/sub-ABCD/dwi/sub-ABCD_acq-noisefree_run-nomotion_dwi.nii.gz',\n",
       " '../data/noisefree/nomotion/sub-DSIQ5/dwi/sub-DSIQ5_acq-noisefree_run-nomotion_dwi.nii.gz',\n",
       " '../data/noisefree/nomotion/sub-HASC55/dwi/sub-HASC55_acq-noisefree_run-nomotion_dwi.nii.gz',\n",
       " '../data/noisefree/nomotion/sub-HCP/dwi/sub-HCP_acq-noisefree_run-nomotion_dwi.nii.gz',\n",
       " '../data/realistic/lowmotion/sub-ABCD/dwi/sub-ABCD_acq-realistic_run-lowmotion_dwi.nii.gz',\n",
       " '../data/realistic/lowmotion/sub-DSIQ5/dwi/sub-DSIQ5_acq-realistic_run-lowmotion_dwi.nii.gz',\n",
       " '../data/realistic/lowmotion/sub-HASC55/dwi/sub-HASC55_acq-realistic_run-lowmotion_dwi.nii.gz',\n",
       " '../data/realistic/lowmotion/sub-HCP/dwi/sub-HCP_acq-realistic_run-lowmotion_dwi.nii.gz',\n",
       " '../data/realistic/nomotion/sub-ABCD/dwi/sub-ABCD_acq-realistic_run-nomotion_dwi.nii.gz',\n",
       " '../data/realistic/nomotion/sub-DSIQ5/dwi/sub-DSIQ5_acq-realistic_run-nomotion_dwi.nii.gz',\n",
       " '../data/realistic/nomotion/sub-HASC55/dwi/sub-HASC55_acq-realistic_run-nomotion_dwi.nii.gz',\n",
       " '../data/realistic/nomotion/sub-HCP/dwi/sub-HCP_acq-realistic_run-nomotion_dwi.nii.gz']"
      ]
     },
     "execution_count": 3,
     "metadata": {},
     "output_type": "execute_result"
    }
   ],
   "source": [
    "dwi"
   ]
  },
  {
   "cell_type": "code",
   "execution_count": 4,
   "metadata": {},
   "outputs": [],
   "source": [
    "rows = []\n",
    "for x in dwi:\n",
    "    \n",
    "    fields = x.split(\"/\")\n",
    "    noise = fields[2]\n",
    "    motion = fields[3]\n",
    "    sub = fields[4].replace(\"sub-\", \"\")\n",
    "    row = {\"noise\": noise, \"motion\": motion, \"subject\": sub, \"image\":x}\n",
    "    rows.append(row)"
   ]
  },
  {
   "cell_type": "code",
   "execution_count": 5,
   "metadata": {},
   "outputs": [
    {
     "data": {
      "text/html": [
       "<div>\n",
       "<style scoped>\n",
       "    .dataframe tbody tr th:only-of-type {\n",
       "        vertical-align: middle;\n",
       "    }\n",
       "\n",
       "    .dataframe tbody tr th {\n",
       "        vertical-align: top;\n",
       "    }\n",
       "\n",
       "    .dataframe thead th {\n",
       "        text-align: right;\n",
       "    }\n",
       "</style>\n",
       "<table border=\"1\" class=\"dataframe\">\n",
       "  <thead>\n",
       "    <tr style=\"text-align: right;\">\n",
       "      <th></th>\n",
       "      <th>image</th>\n",
       "      <th>motion</th>\n",
       "      <th>noise</th>\n",
       "      <th>subject</th>\n",
       "      <th>mixed</th>\n",
       "    </tr>\n",
       "  </thead>\n",
       "  <tbody>\n",
       "    <tr>\n",
       "      <th>0</th>\n",
       "      <td>../data/noisefree/lowmotion/sub-ABCD/dwi/sub-A...</td>\n",
       "      <td>lowmotion</td>\n",
       "      <td>noisefree</td>\n",
       "      <td>ABCD</td>\n",
       "      <td>None</td>\n",
       "    </tr>\n",
       "    <tr>\n",
       "      <th>1</th>\n",
       "      <td>../data/noisefree/nomotion/sub-ABCD/dwi/sub-AB...</td>\n",
       "      <td>nomotion</td>\n",
       "      <td>noisefree</td>\n",
       "      <td>ABCD</td>\n",
       "      <td>None</td>\n",
       "    </tr>\n",
       "    <tr>\n",
       "      <th>2</th>\n",
       "      <td>../data/realistic/lowmotion/sub-ABCD/dwi/sub-A...</td>\n",
       "      <td>lowmotion</td>\n",
       "      <td>realistic</td>\n",
       "      <td>ABCD</td>\n",
       "      <td>None</td>\n",
       "    </tr>\n",
       "    <tr>\n",
       "      <th>3</th>\n",
       "      <td>../data/realistic/nomotion/sub-ABCD/dwi/sub-AB...</td>\n",
       "      <td>nomotion</td>\n",
       "      <td>realistic</td>\n",
       "      <td>ABCD</td>\n",
       "      <td>None</td>\n",
       "    </tr>\n",
       "    <tr>\n",
       "      <th>4</th>\n",
       "      <td>../data/noisefree/lowmotion/sub-DSIQ5/dwi/sub-...</td>\n",
       "      <td>lowmotion</td>\n",
       "      <td>noisefree</td>\n",
       "      <td>DSIQ5</td>\n",
       "      <td>None</td>\n",
       "    </tr>\n",
       "    <tr>\n",
       "      <th>5</th>\n",
       "      <td>../data/noisefree/nomotion/sub-DSIQ5/dwi/sub-D...</td>\n",
       "      <td>nomotion</td>\n",
       "      <td>noisefree</td>\n",
       "      <td>DSIQ5</td>\n",
       "      <td>None</td>\n",
       "    </tr>\n",
       "    <tr>\n",
       "      <th>6</th>\n",
       "      <td>../data/realistic/lowmotion/sub-DSIQ5/dwi/sub-...</td>\n",
       "      <td>lowmotion</td>\n",
       "      <td>realistic</td>\n",
       "      <td>DSIQ5</td>\n",
       "      <td>None</td>\n",
       "    </tr>\n",
       "    <tr>\n",
       "      <th>7</th>\n",
       "      <td>../data/realistic/nomotion/sub-DSIQ5/dwi/sub-D...</td>\n",
       "      <td>nomotion</td>\n",
       "      <td>realistic</td>\n",
       "      <td>DSIQ5</td>\n",
       "      <td>None</td>\n",
       "    </tr>\n",
       "    <tr>\n",
       "      <th>8</th>\n",
       "      <td>../data/noisefree/lowmotion/sub-HASC55/dwi/sub...</td>\n",
       "      <td>lowmotion</td>\n",
       "      <td>noisefree</td>\n",
       "      <td>HASC55</td>\n",
       "      <td>None</td>\n",
       "    </tr>\n",
       "    <tr>\n",
       "      <th>9</th>\n",
       "      <td>../data/noisefree/nomotion/sub-HASC55/dwi/sub-...</td>\n",
       "      <td>nomotion</td>\n",
       "      <td>noisefree</td>\n",
       "      <td>HASC55</td>\n",
       "      <td>None</td>\n",
       "    </tr>\n",
       "    <tr>\n",
       "      <th>10</th>\n",
       "      <td>../data/realistic/lowmotion/sub-HASC55/dwi/sub...</td>\n",
       "      <td>lowmotion</td>\n",
       "      <td>realistic</td>\n",
       "      <td>HASC55</td>\n",
       "      <td>None</td>\n",
       "    </tr>\n",
       "    <tr>\n",
       "      <th>11</th>\n",
       "      <td>../data/realistic/nomotion/sub-HASC55/dwi/sub-...</td>\n",
       "      <td>nomotion</td>\n",
       "      <td>realistic</td>\n",
       "      <td>HASC55</td>\n",
       "      <td>None</td>\n",
       "    </tr>\n",
       "    <tr>\n",
       "      <th>12</th>\n",
       "      <td>../data/noisefree/lowmotion/sub-HCP/dwi/sub-HC...</td>\n",
       "      <td>lowmotion</td>\n",
       "      <td>noisefree</td>\n",
       "      <td>HCP</td>\n",
       "      <td>None</td>\n",
       "    </tr>\n",
       "    <tr>\n",
       "      <th>13</th>\n",
       "      <td>../data/noisefree/nomotion/sub-HCP/dwi/sub-HCP...</td>\n",
       "      <td>nomotion</td>\n",
       "      <td>noisefree</td>\n",
       "      <td>HCP</td>\n",
       "      <td>None</td>\n",
       "    </tr>\n",
       "    <tr>\n",
       "      <th>14</th>\n",
       "      <td>../data/realistic/lowmotion/sub-HCP/dwi/sub-HC...</td>\n",
       "      <td>lowmotion</td>\n",
       "      <td>realistic</td>\n",
       "      <td>HCP</td>\n",
       "      <td>None</td>\n",
       "    </tr>\n",
       "    <tr>\n",
       "      <th>15</th>\n",
       "      <td>../data/realistic/nomotion/sub-HCP/dwi/sub-HCP...</td>\n",
       "      <td>nomotion</td>\n",
       "      <td>realistic</td>\n",
       "      <td>HCP</td>\n",
       "      <td>None</td>\n",
       "    </tr>\n",
       "  </tbody>\n",
       "</table>\n",
       "</div>"
      ],
      "text/plain": [
       "                                                image     motion      noise  \\\n",
       "0   ../data/noisefree/lowmotion/sub-ABCD/dwi/sub-A...  lowmotion  noisefree   \n",
       "1   ../data/noisefree/nomotion/sub-ABCD/dwi/sub-AB...   nomotion  noisefree   \n",
       "2   ../data/realistic/lowmotion/sub-ABCD/dwi/sub-A...  lowmotion  realistic   \n",
       "3   ../data/realistic/nomotion/sub-ABCD/dwi/sub-AB...   nomotion  realistic   \n",
       "4   ../data/noisefree/lowmotion/sub-DSIQ5/dwi/sub-...  lowmotion  noisefree   \n",
       "5   ../data/noisefree/nomotion/sub-DSIQ5/dwi/sub-D...   nomotion  noisefree   \n",
       "6   ../data/realistic/lowmotion/sub-DSIQ5/dwi/sub-...  lowmotion  realistic   \n",
       "7   ../data/realistic/nomotion/sub-DSIQ5/dwi/sub-D...   nomotion  realistic   \n",
       "8   ../data/noisefree/lowmotion/sub-HASC55/dwi/sub...  lowmotion  noisefree   \n",
       "9   ../data/noisefree/nomotion/sub-HASC55/dwi/sub-...   nomotion  noisefree   \n",
       "10  ../data/realistic/lowmotion/sub-HASC55/dwi/sub...  lowmotion  realistic   \n",
       "11  ../data/realistic/nomotion/sub-HASC55/dwi/sub-...   nomotion  realistic   \n",
       "12  ../data/noisefree/lowmotion/sub-HCP/dwi/sub-HC...  lowmotion  noisefree   \n",
       "13  ../data/noisefree/nomotion/sub-HCP/dwi/sub-HCP...   nomotion  noisefree   \n",
       "14  ../data/realistic/lowmotion/sub-HCP/dwi/sub-HC...  lowmotion  realistic   \n",
       "15  ../data/realistic/nomotion/sub-HCP/dwi/sub-HCP...   nomotion  realistic   \n",
       "\n",
       "   subject mixed  \n",
       "0     ABCD  None  \n",
       "1     ABCD  None  \n",
       "2     ABCD  None  \n",
       "3     ABCD  None  \n",
       "4    DSIQ5  None  \n",
       "5    DSIQ5  None  \n",
       "6    DSIQ5  None  \n",
       "7    DSIQ5  None  \n",
       "8   HASC55  None  \n",
       "9   HASC55  None  \n",
       "10  HASC55  None  \n",
       "11  HASC55  None  \n",
       "12     HCP  None  \n",
       "13     HCP  None  \n",
       "14     HCP  None  \n",
       "15     HCP  None  "
      ]
     },
     "execution_count": 5,
     "metadata": {},
     "output_type": "execute_result"
    }
   ],
   "source": [
    "df = pd.DataFrame(rows).sort_values(\"subject\").reset_index(drop=True)\n",
    "df['mixed'] = None\n",
    "df"
   ]
  },
  {
   "cell_type": "code",
   "execution_count": 6,
   "metadata": {},
   "outputs": [],
   "source": [
    "outputs_10per = {}\n",
    "outputs_25per = {}\n",
    "for x in range(len(df))[0::2]:\n",
    "    mixed_image = simulate_motion(df.loc[x+1,'image'], df.loc[x,'image'], 0.1)\n",
    "    name = df.loc[x+1,'subject'] + \"_\" + df.loc[x+1,'noise']\n",
    "    outputs_10per[name] = mixed_image\n",
    "    mixed_image = simulate_motion(df.loc[x+1,'image'], df.loc[x,'image'], 0.25)\n",
    "    name = df.loc[x+1,'subject'] + \"_\" + df.loc[x+1,'noise']\n",
    "    outputs_25per[name] = mixed_image"
   ]
  },
  {
   "cell_type": "code",
   "execution_count": 7,
   "metadata": {},
   "outputs": [
    {
     "data": {
      "text/plain": [
       "{'ABCD_noisefree': <nibabel.nifti1.Nifti1Image at 0x11b1cbc50>,\n",
       " 'ABCD_realistic': <nibabel.nifti1.Nifti1Image at 0x11b1cbd68>,\n",
       " 'DSIQ5_noisefree': <nibabel.nifti1.Nifti1Image at 0x11b1cbcc0>,\n",
       " 'DSIQ5_realistic': <nibabel.nifti1.Nifti1Image at 0x11b1cbe80>,\n",
       " 'HASC55_noisefree': <nibabel.nifti1.Nifti1Image at 0x11b1ed208>,\n",
       " 'HASC55_realistic': <nibabel.nifti1.Nifti1Image at 0x11b1ed128>,\n",
       " 'HCP_noisefree': <nibabel.nifti1.Nifti1Image at 0x11b1ed0b8>,\n",
       " 'HCP_realistic': <nibabel.nifti1.Nifti1Image at 0x11b1ed278>}"
      ]
     },
     "execution_count": 7,
     "metadata": {},
     "output_type": "execute_result"
    }
   ],
   "source": [
    "outputs_10per"
   ]
  },
  {
   "cell_type": "code",
   "execution_count": 8,
   "metadata": {},
   "outputs": [
    {
     "data": {
      "text/plain": [
       "{'ABCD_noisefree': <nibabel.nifti1.Nifti1Image at 0x11b1cbc18>,\n",
       " 'ABCD_realistic': <nibabel.nifti1.Nifti1Image at 0x11b1cbba8>,\n",
       " 'DSIQ5_noisefree': <nibabel.nifti1.Nifti1Image at 0x11b1cbc88>,\n",
       " 'DSIQ5_realistic': <nibabel.nifti1.Nifti1Image at 0x11b1ed390>,\n",
       " 'HASC55_noisefree': <nibabel.nifti1.Nifti1Image at 0x11b1ed400>,\n",
       " 'HASC55_realistic': <nibabel.nifti1.Nifti1Image at 0x11b1ed0f0>,\n",
       " 'HCP_noisefree': <nibabel.nifti1.Nifti1Image at 0x11b1ed080>,\n",
       " 'HCP_realistic': <nibabel.nifti1.Nifti1Image at 0x11b1ed438>}"
      ]
     },
     "execution_count": 8,
     "metadata": {},
     "output_type": "execute_result"
    }
   ],
   "source": [
    "outputs_25per"
   ]
  },
  {
   "cell_type": "code",
   "execution_count": 26,
   "metadata": {},
   "outputs": [
    {
     "name": "stdout",
     "output_type": "stream",
     "text": [
      "../data/bids_directory/sub-ABCD/dwi/sub-ABCD_acq-noisefree_run-10perc_dwi.nii.gz\n",
      "../data/bids_directory/sub-ABCD/dwi/sub-ABCD_acq-realistic_run-10perc_dwi.nii.gz\n",
      "../data/bids_directory/sub-DSIQ5/dwi/sub-DSIQ5_acq-noisefree_run-10perc_dwi.nii.gz\n",
      "../data/bids_directory/sub-DSIQ5/dwi/sub-DSIQ5_acq-realistic_run-10perc_dwi.nii.gz\n",
      "../data/bids_directory/sub-HASC55/dwi/sub-HASC55_acq-noisefree_run-10perc_dwi.nii.gz\n",
      "../data/bids_directory/sub-HASC55/dwi/sub-HASC55_acq-realistic_run-10perc_dwi.nii.gz\n",
      "../data/bids_directory/sub-HCP/dwi/sub-HCP_acq-noisefree_run-10perc_dwi.nii.gz\n",
      "../data/bids_directory/sub-HCP/dwi/sub-HCP_acq-realistic_run-10perc_dwi.nii.gz\n"
     ]
    }
   ],
   "source": [
    "for key, val in outputs_10per.items():\n",
    "    path = \"../data/bids_directory/\"\n",
    "    sub = \"sub-\" + key.split(\"_\")[0]\n",
    "    path = path + sub + \"/dwi/\"\n",
    "    acq = key.split(\"_\")[1]\n",
    "    final_out = \"{}{}_acq-{}_run-10perc_dwi.nii.gz\".format(path, sub, acq)\n",
    "    print(final_out)\n",
    "    val.to_filename(final_out)"
   ]
  },
  {
   "cell_type": "code",
   "execution_count": 28,
   "metadata": {},
   "outputs": [
    {
     "name": "stdout",
     "output_type": "stream",
     "text": [
      "../data/bids_directory/sub-ABCD/dwi/sub-ABCD_acq-noisefree_run-25perc_dwi.nii.gz\n",
      "../data/bids_directory/sub-ABCD/dwi/sub-ABCD_acq-realistic_run-25perc_dwi.nii.gz\n",
      "../data/bids_directory/sub-DSIQ5/dwi/sub-DSIQ5_acq-noisefree_run-25perc_dwi.nii.gz\n",
      "../data/bids_directory/sub-DSIQ5/dwi/sub-DSIQ5_acq-realistic_run-25perc_dwi.nii.gz\n",
      "../data/bids_directory/sub-HASC55/dwi/sub-HASC55_acq-noisefree_run-25perc_dwi.nii.gz\n",
      "../data/bids_directory/sub-HASC55/dwi/sub-HASC55_acq-realistic_run-25perc_dwi.nii.gz\n",
      "../data/bids_directory/sub-HCP/dwi/sub-HCP_acq-noisefree_run-25perc_dwi.nii.gz\n",
      "../data/bids_directory/sub-HCP/dwi/sub-HCP_acq-realistic_run-25perc_dwi.nii.gz\n"
     ]
    }
   ],
   "source": [
    "for key, val in outputs_25per.items():\n",
    "    path = \"../data/bids_directory/\"\n",
    "    sub = \"sub-\" + key.split(\"_\")[0]\n",
    "    path = path + sub + \"/dwi/\"\n",
    "    acq = key.split(\"_\")[1]\n",
    "    final_out = \"{}{}_acq-{}_run-25perc_dwi.nii.gz\".format(path, sub, acq)\n",
    "    print(final_out)\n",
    "    val.to_filename(final_out)"
   ]
  },
  {
   "cell_type": "code",
   "execution_count": null,
   "metadata": {},
   "outputs": [],
   "source": []
  }
 ],
 "metadata": {
  "kernelspec": {
   "display_name": "Python 3",
   "language": "python",
   "name": "python3"
  },
  "language_info": {
   "codemirror_mode": {
    "name": "ipython",
    "version": 3
   },
   "file_extension": ".py",
   "mimetype": "text/x-python",
   "name": "python",
   "nbconvert_exporter": "python",
   "pygments_lexer": "ipython3",
   "version": "3.7.2"
  }
 },
 "nbformat": 4,
 "nbformat_minor": 2
}
