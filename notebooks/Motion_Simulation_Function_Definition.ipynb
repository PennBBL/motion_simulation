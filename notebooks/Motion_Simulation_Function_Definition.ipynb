{
 "cells": [
  {
   "cell_type": "markdown",
   "metadata": {},
   "source": [
    "Here we demo the use of a function to randomly generate motion from a synthetic dataset"
   ]
  },
  {
   "cell_type": "code",
   "execution_count": 1,
   "metadata": {},
   "outputs": [],
   "source": [
    "import nibabel as nb\n",
    "import numpy as np"
   ]
  },
  {
   "cell_type": "markdown",
   "metadata": {},
   "source": [
    "Read in the series:"
   ]
  },
  {
   "cell_type": "code",
   "execution_count": 38,
   "metadata": {},
   "outputs": [],
   "source": [
    "path = '/Users/ttapera/Documents/BBL/Projects/motion_simulation/'\n",
    "nomotion = path + 'data/realistic/nomotion/sub-ABCD/dwi/sub-ABCD_acq-realistic_run-nomotion_dwi.nii.gz'\n",
    "motion = path + 'data/realistic/lowmotion/sub-ABCD/dwi/sub-ABCD_acq-realistic_run-lowmotion_dwi.nii.gz'"
   ]
  },
  {
   "cell_type": "code",
   "execution_count": 14,
   "metadata": {},
   "outputs": [
    {
     "data": {
      "text/plain": [
       "<nibabel.nifti1.Nifti1Image at 0x117794080>"
      ]
     },
     "execution_count": 14,
     "metadata": {},
     "output_type": "execute_result"
    }
   ],
   "source": [
    "x_nomotion = nb.load(nomotion)\n",
    "x_nomotion"
   ]
  },
  {
   "cell_type": "code",
   "execution_count": 16,
   "metadata": {},
   "outputs": [
    {
     "data": {
      "text/plain": [
       "<nibabel.nifti1.Nifti1Image at 0x118110ef0>"
      ]
     },
     "execution_count": 16,
     "metadata": {},
     "output_type": "execute_result"
    }
   ],
   "source": [
    "x_lowmotion = nb.load(motion)\n",
    "x_lowmotion"
   ]
  },
  {
   "cell_type": "markdown",
   "metadata": {},
   "source": [
    "Extract data from niftis into arrays:"
   ]
  },
  {
   "cell_type": "code",
   "execution_count": 17,
   "metadata": {},
   "outputs": [],
   "source": [
    "arr_nomotion = x_nomotion.get_fdata()\n",
    "arr_lowmotion = x_lowmotion.get_fdata()"
   ]
  },
  {
   "cell_type": "markdown",
   "metadata": {},
   "source": [
    "From the series of low motion, we want to sample 10% of the volumes, and replace volumes in no-motion with this 10%, at the corresponding indeces."
   ]
  },
  {
   "cell_type": "code",
   "execution_count": 18,
   "metadata": {},
   "outputs": [
    {
     "data": {
      "text/plain": [
       "(90, 108, 90, 103)"
      ]
     },
     "execution_count": 18,
     "metadata": {},
     "output_type": "execute_result"
    }
   ],
   "source": [
    "arr_nomotion.shape"
   ]
  },
  {
   "cell_type": "code",
   "execution_count": 19,
   "metadata": {},
   "outputs": [],
   "source": [
    "n_vols = arr_nomotion.shape[-1]"
   ]
  },
  {
   "cell_type": "code",
   "execution_count": 22,
   "metadata": {},
   "outputs": [],
   "source": [
    "# two volumes are same shape\n",
    "assert n_vols == arr_lowmotion.shape[-1]"
   ]
  },
  {
   "cell_type": "code",
   "execution_count": 25,
   "metadata": {},
   "outputs": [
    {
     "data": {
      "text/plain": [
       "array([93, 37, 32, 97, 88, 99, 30,  9, 17, 90])"
      ]
     },
     "execution_count": 25,
     "metadata": {},
     "output_type": "execute_result"
    }
   ],
   "source": [
    "prop = 0.1 # 10% proportion\n",
    "\n",
    "# sample from [0-n_vols), a proportion of the volumes\n",
    "np.random.randint(n_vols, size=round(prop*n_vols))"
   ]
  },
  {
   "cell_type": "markdown",
   "metadata": {},
   "source": [
    "Here's one of the volumes to be replaced:"
   ]
  },
  {
   "cell_type": "code",
   "execution_count": 30,
   "metadata": {
    "scrolled": false
   },
   "outputs": [
    {
     "data": {
      "text/plain": [
       "array([[[20., 20.,  9., ...,  9., 16., 20.],\n",
       "        [20., 22.,  7., ..., 23., 12., 20.],\n",
       "        [26., 33., 14., ..., 10., 14., 29.],\n",
       "        ...,\n",
       "        [16., 11., 20., ..., 10.,  7., 34.],\n",
       "        [ 6., 18., 13., ...,  8., 24.,  9.],\n",
       "        [ 6., 11., 21., ..., 12., 15., 13.]],\n",
       "\n",
       "       [[13., 23.,  9., ..., 22., 47., 14.],\n",
       "        [37., 18., 29., ..., 23., 17., 16.],\n",
       "        [12., 16., 14., ..., 29., 18., 17.],\n",
       "        ...,\n",
       "        [20., 46., 26., ..., 27., 38., 18.],\n",
       "        [ 1., 27., 11., ..., 17., 27., 14.],\n",
       "        [16., 24., 15., ...,  3., 27., 14.]],\n",
       "\n",
       "       [[21., 16., 39., ...,  3., 18., 28.],\n",
       "        [16., 26., 15., ..., 18., 42., 10.],\n",
       "        [36., 43., 21., ..., 18., 33.,  7.],\n",
       "        ...,\n",
       "        [17., 31., 17., ...,  8., 19., 25.],\n",
       "        [ 5., 20., 15., ..., 17., 26., 10.],\n",
       "        [25., 23., 30., ..., 29., 19., 23.]],\n",
       "\n",
       "       ...,\n",
       "\n",
       "       [[21., 14., 32., ..., 20.,  7.,  8.],\n",
       "        [10., 25., 10., ..., 19., 25., 19.],\n",
       "        [26.,  7., 17., ...,  6., 25., 12.],\n",
       "        ...,\n",
       "        [19., 24., 12., ..., 17., 20., 10.],\n",
       "        [25., 33., 30., ...,  9., 41., 32.],\n",
       "        [10., 24.,  8., ..., 15., 18., 21.]],\n",
       "\n",
       "       [[40., 23., 18., ..., 27., 36., 32.],\n",
       "        [38.,  5., 25., ...,  9., 33., 36.],\n",
       "        [47., 13., 28., ..., 31.,  6., 12.],\n",
       "        ...,\n",
       "        [38., 37., 21., ..., 21., 30., 20.],\n",
       "        [23., 14., 19., ..., 32.,  5., 21.],\n",
       "        [27., 20., 25., ...,  8., 12., 24.]],\n",
       "\n",
       "       [[19.,  3., 24., ..., 17., 16., 19.],\n",
       "        [32.,  9., 13., ..., 27., 13., 13.],\n",
       "        [13., 41., 22., ...,  6., 27., 29.],\n",
       "        ...,\n",
       "        [20., 44., 27., ...,  9., 15., 11.],\n",
       "        [30., 32., 34., ...,  4., 16., 23.],\n",
       "        [ 7., 11., 16., ..., 16., 16., 34.]]])"
      ]
     },
     "execution_count": 30,
     "metadata": {},
     "output_type": "execute_result"
    }
   ],
   "source": [
    "to_replace = np.random.randint(n_vols, size=round(prop*n_vols))\n",
    "\n",
    "arr_nomotion[..., to_replace[0]]"
   ]
  },
  {
   "cell_type": "markdown",
   "metadata": {},
   "source": [
    "And here is it's eventual replacement:"
   ]
  },
  {
   "cell_type": "code",
   "execution_count": 31,
   "metadata": {},
   "outputs": [
    {
     "data": {
      "text/plain": [
       "array([[[ 7., 21., 34., ..., 43., 28., 17.],\n",
       "        [11., 16., 10., ..., 11., 31., 44.],\n",
       "        [ 5., 16., 16., ..., 28., 35., 17.],\n",
       "        ...,\n",
       "        [26., 25., 15., ..., 24., 16., 14.],\n",
       "        [ 4., 19., 57., ..., 18., 24., 31.],\n",
       "        [14.,  7., 13., ..., 19., 17., 11.]],\n",
       "\n",
       "       [[32.,  5., 12., ..., 21., 20.,  8.],\n",
       "        [10., 12., 25., ..., 19.,  8., 22.],\n",
       "        [ 9., 21., 10., ..., 23., 30., 26.],\n",
       "        ...,\n",
       "        [11., 16., 11., ..., 11., 16., 41.],\n",
       "        [16.,  6., 12., ..., 11., 24.,  7.],\n",
       "        [40., 23., 45., ..., 31., 11., 34.]],\n",
       "\n",
       "       [[30.,  8., 14., ..., 43., 14., 21.],\n",
       "        [12., 18., 37., ..., 37., 17., 27.],\n",
       "        [25., 11., 12., ..., 28., 18.,  9.],\n",
       "        ...,\n",
       "        [15., 17., 48., ...,  9., 49., 18.],\n",
       "        [32., 16., 14., ..., 27., 22.,  4.],\n",
       "        [24., 15., 14., ..., 30., 38., 22.]],\n",
       "\n",
       "       ...,\n",
       "\n",
       "       [[30., 20.,  4., ...,  7.,  9., 43.],\n",
       "        [16.,  6., 15., ..., 16., 15., 11.],\n",
       "        [13.,  7., 26., ..., 21., 36., 25.],\n",
       "        ...,\n",
       "        [17.,  9., 27., ..., 32., 23.,  7.],\n",
       "        [ 5., 33., 36., ..., 15., 12., 24.],\n",
       "        [33.,  3.,  3., ..., 27., 36., 24.]],\n",
       "\n",
       "       [[15., 23.,  7., ..., 17., 20., 37.],\n",
       "        [ 5., 24., 21., ..., 15., 11., 23.],\n",
       "        [39., 13., 14., ..., 23., 14., 20.],\n",
       "        ...,\n",
       "        [ 8.,  9., 18., ..., 25.,  5., 13.],\n",
       "        [ 9.,  8.,  5., ...,  5., 21., 10.],\n",
       "        [13., 22., 11., ..., 23., 26., 12.]],\n",
       "\n",
       "       [[13., 31., 24., ..., 33., 37., 12.],\n",
       "        [14., 17., 13., ..., 12., 14.,  6.],\n",
       "        [14., 11., 10., ..., 26., 10., 26.],\n",
       "        ...,\n",
       "        [12.,  7., 24., ..., 12., 11., 30.],\n",
       "        [ 8.,  9.,  7., ..., 14.,  9., 27.],\n",
       "        [12., 13., 22., ..., 12., 20., 22.]]])"
      ]
     },
     "execution_count": 31,
     "metadata": {},
     "output_type": "execute_result"
    }
   ],
   "source": [
    "arr_lowmotion[..., to_replace[0]]"
   ]
  },
  {
   "cell_type": "markdown",
   "metadata": {},
   "source": [
    "Replacement is straightforward:"
   ]
  },
  {
   "cell_type": "code",
   "execution_count": 34,
   "metadata": {},
   "outputs": [],
   "source": [
    "output = arr_nomotion.copy()\n",
    "output[...,to_replace] = arr_lowmotion[..., to_replace]"
   ]
  },
  {
   "cell_type": "code",
   "execution_count": 35,
   "metadata": {},
   "outputs": [
    {
     "data": {
      "text/plain": [
       "array([[[ 7., 21., 34., ..., 43., 28., 17.],\n",
       "        [11., 16., 10., ..., 11., 31., 44.],\n",
       "        [ 5., 16., 16., ..., 28., 35., 17.],\n",
       "        ...,\n",
       "        [26., 25., 15., ..., 24., 16., 14.],\n",
       "        [ 4., 19., 57., ..., 18., 24., 31.],\n",
       "        [14.,  7., 13., ..., 19., 17., 11.]],\n",
       "\n",
       "       [[32.,  5., 12., ..., 21., 20.,  8.],\n",
       "        [10., 12., 25., ..., 19.,  8., 22.],\n",
       "        [ 9., 21., 10., ..., 23., 30., 26.],\n",
       "        ...,\n",
       "        [11., 16., 11., ..., 11., 16., 41.],\n",
       "        [16.,  6., 12., ..., 11., 24.,  7.],\n",
       "        [40., 23., 45., ..., 31., 11., 34.]],\n",
       "\n",
       "       [[30.,  8., 14., ..., 43., 14., 21.],\n",
       "        [12., 18., 37., ..., 37., 17., 27.],\n",
       "        [25., 11., 12., ..., 28., 18.,  9.],\n",
       "        ...,\n",
       "        [15., 17., 48., ...,  9., 49., 18.],\n",
       "        [32., 16., 14., ..., 27., 22.,  4.],\n",
       "        [24., 15., 14., ..., 30., 38., 22.]],\n",
       "\n",
       "       ...,\n",
       "\n",
       "       [[30., 20.,  4., ...,  7.,  9., 43.],\n",
       "        [16.,  6., 15., ..., 16., 15., 11.],\n",
       "        [13.,  7., 26., ..., 21., 36., 25.],\n",
       "        ...,\n",
       "        [17.,  9., 27., ..., 32., 23.,  7.],\n",
       "        [ 5., 33., 36., ..., 15., 12., 24.],\n",
       "        [33.,  3.,  3., ..., 27., 36., 24.]],\n",
       "\n",
       "       [[15., 23.,  7., ..., 17., 20., 37.],\n",
       "        [ 5., 24., 21., ..., 15., 11., 23.],\n",
       "        [39., 13., 14., ..., 23., 14., 20.],\n",
       "        ...,\n",
       "        [ 8.,  9., 18., ..., 25.,  5., 13.],\n",
       "        [ 9.,  8.,  5., ...,  5., 21., 10.],\n",
       "        [13., 22., 11., ..., 23., 26., 12.]],\n",
       "\n",
       "       [[13., 31., 24., ..., 33., 37., 12.],\n",
       "        [14., 17., 13., ..., 12., 14.,  6.],\n",
       "        [14., 11., 10., ..., 26., 10., 26.],\n",
       "        ...,\n",
       "        [12.,  7., 24., ..., 12., 11., 30.],\n",
       "        [ 8.,  9.,  7., ..., 14.,  9., 27.],\n",
       "        [12., 13., 22., ..., 12., 20., 22.]]])"
      ]
     },
     "execution_count": 35,
     "metadata": {},
     "output_type": "execute_result"
    }
   ],
   "source": [
    "output[...,to_replace[0]]"
   ]
  },
  {
   "cell_type": "markdown",
   "metadata": {},
   "source": [
    "Then we write out to file:"
   ]
  },
  {
   "cell_type": "code",
   "execution_count": 39,
   "metadata": {},
   "outputs": [],
   "source": [
    "nb.Nifti1Image(output, x_nomotion.affine, header=x_nomotion.header).to_filename(path + \"output/asdf.nii.gz\")"
   ]
  },
  {
   "cell_type": "markdown",
   "metadata": {},
   "source": [
    "Let's write a function!"
   ]
  },
  {
   "cell_type": "code",
   "execution_count": 43,
   "metadata": {},
   "outputs": [],
   "source": [
    "def simulate_motion(input_nomotion, input_motion, proportion):\n",
    "    \n",
    "    input_nomotion = nb.load(input_nomotion)\n",
    "    input_motion = nb.load(input_motion)\n",
    "    nomotion_arr = input_nomotion.get_fdata()\n",
    "    motion_arr = input_motion.get_fdata()\n",
    "    assert motion_arr.shape[-1] == nomotion_arr.shape[-1]\n",
    "\n",
    "    n_vols = nomotion_arr.shape[-1]\n",
    "    to_replace = np.random.randint(n_vols, size=round(proportion*n_vols))\n",
    "    \n",
    "    out = nomotion_arr.copy()\n",
    "    out[...,to_replace] = motion_arr[..., to_replace]\n",
    "    out = nb.Nifti1Image(out, input_nomotion.affine, header=input_nomotion.header)\n",
    "    return out"
   ]
  },
  {
   "cell_type": "code",
   "execution_count": 44,
   "metadata": {},
   "outputs": [],
   "source": [
    "result = simulate_motion(nomotion, motion, 0.1)"
   ]
  },
  {
   "cell_type": "code",
   "execution_count": 45,
   "metadata": {},
   "outputs": [
    {
     "data": {
      "text/plain": [
       "<nibabel.nifti1.Nifti1Image at 0x117dabe48>"
      ]
     },
     "execution_count": 45,
     "metadata": {},
     "output_type": "execute_result"
    }
   ],
   "source": [
    "result"
   ]
  },
  {
   "cell_type": "code",
   "execution_count": null,
   "metadata": {},
   "outputs": [],
   "source": []
  }
 ],
 "metadata": {
  "kernelspec": {
   "display_name": "Python 3",
   "language": "python",
   "name": "python3"
  },
  "language_info": {
   "codemirror_mode": {
    "name": "ipython",
    "version": 3
   },
   "file_extension": ".py",
   "mimetype": "text/x-python",
   "name": "python",
   "nbconvert_exporter": "python",
   "pygments_lexer": "ipython3",
   "version": "3.7.2"
  }
 },
 "nbformat": 4,
 "nbformat_minor": 2
}
